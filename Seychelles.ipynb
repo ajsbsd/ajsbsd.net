{
  "nbformat": 4,
  "nbformat_minor": 0,
  "metadata": {
    "colab": {
      "provenance": [],
      "authorship_tag": "ABX9TyPBI0yCRpviPs0wrKfY6rA1",
      "include_colab_link": true
    },
    "kernelspec": {
      "name": "python3",
      "display_name": "Python 3"
    },
    "language_info": {
      "name": "python"
    }
  },
  "cells": [
    {
      "cell_type": "markdown",
      "metadata": {
        "id": "view-in-github",
        "colab_type": "text"
      },
      "source": [
        "<a href=\"https://colab.research.google.com/github/ajsbsd/ajsbsd.net/blob/main/Seychelles.ipynb\" target=\"_parent\"><img src=\"https://colab.research.google.com/assets/colab-badge.svg\" alt=\"Open In Colab\"/></a>"
      ]
    },
    {
      "cell_type": "code",
      "execution_count": 11,
      "metadata": {
        "colab": {
          "base_uri": "https://localhost:8080/"
        },
        "id": "jirOkJ_gSTuY",
        "outputId": "c3f7fb8f-d6ef-4742-a05f-06fcf7d8e60e"
      },
      "outputs": [
        {
          "output_type": "stream",
          "name": "stdout",
          "text": [
            "<!DOCTYPE html>\n",
            "<html lang=en>\n",
            "<head>\n",
            "   <meta charset=UTF-8>\n",
            "   <meta name=viewport content=width=device-width, initial-scale=1.0>\n",
            "   <title>Seychelles</title>\n",
            "</head>\n",
            "<body>\n",
            "iptables -A INPUT -s 2.56.10.0/32 -j DROP\n",
            "iptables -A INPUT -s 2.56.10.2/31 -j DROP\n",
            "iptables -A INPUT -s 2.56.10.4/30 -j DROP\n",
            "iptables -A INPUT -s 2.56.10.8/29 -j DROP\n",
            "iptables -A INPUT -s 2.56.10.16/28 -j DROP\n",
            "iptables -A INPUT -s 2.56.10.32/27 -j DROP\n",
            "iptables -A INPUT -s 2.56.10.64/26 -j DROP\n",
            "</body>\n",
            "</html>\n"
          ]
        }
      ],
      "source": [
        "#!/bin/sh\n",
        "# src = https://www.ip2location.com/free/visitor-blocker\n",
        "!echo \"<!DOCTYPE html>\"\n",
        "!echo \"<html lang=\"en\">\"\n",
        "!echo \"<head>\"\n",
        "!echo \"   <meta charset=\"UTF-8\">\"\n",
        "!echo \"   <meta name=\"viewport\" content=\"width=device-width, initial-scale=1.0\">\"\n",
        "!echo \"   <title>Seychelles</title>\"\n",
        "!echo \"</head>\"\n",
        "!echo \"<body>\"\n",
        "!for i in `grep -v \\# firewall.txt | head -7 `; do echo iptables -A INPUT -s $i -j DROP; done\n",
        "!echo \"</body>\"\n",
        "!echo \"</html>\""
      ]
    }
  ]
}